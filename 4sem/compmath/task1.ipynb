{
 "cells": [
  {
   "cell_type": "markdown",
   "metadata": {},
   "source": [
    "# Практическая работа №2: Исследование задач о раскрасках\n",
    "\n",
    "Выполнил студент гр. 0304 Докучаев Роман, вариант 32."
   ]
  },
  {
   "cell_type": "markdown",
   "metadata": {},
   "source": [
    "## Цель работы\n",
    "\n",
    "Формирование представления о задачах о раскрасках, выработать умение использовать лемму Бёрнсайда для решения задачи о раскрасках, привить навык использования систем компьютерной алгебры для реализации алгоритмов решения задач. "
   ]
  },
  {
   "cell_type": "markdown",
   "metadata": {},
   "source": [
    "## Основные теоретические положения\n",
    "\n",
    "$\\quad$**Бинарный метод возведения в степень** - это способ возведения в степень числа. Представляет собой следующую последовательность действий:\n",
    "* Задаются начальные параметры: *N = n*, *Y = 1*, *Z = x*\n",
    "* Если *N* - чётное, то $N = floor(N/2)$ и $Z = Z^2$\n",
    "* Если *N* - нечётное, то $N = floor(N/2)$ и $Y = Z*Y$ \n",
    "* Если $N != 0$, то повторяем проверку на чётность\n",
    "* Если $N = 0$, то результат получен\n",
    "\n",
    "$\\quad$**Метод множителей для возведения в степень** - Ещё один способ возведения числа в степень. Заключается в представлении $n = p*q$, где *p* - наименьший простой делитель *p*, $q > 1$. Затем полученные *p* и *q* становятся степенями вместо исходной, которые надо представить в виде аналогичного произведения. Данное действие повторяется, пока все степени не будут 1 или 2.\n",
    "* Если *n* простое, то вычисляем $x^{n-1}$ и домножаем результат на *x* \n",
    "\n",
    "$\\quad$**Аддитивной цепочкой** называется последовательность натуральных чисел от *1* до *n*, где каждый следующий элемент равен сумме каких-либо двух предыдущих\n",
    "$$ a_i = a_j + a_k, \\quad k \\le j \\le i, \\quad i = 1, 2, ..., r $$\n",
    "\n",
    "$l(n) = r$ - наименьшая длина аддитивной цепочки для $ n \\in ℕ $.\n",
    "\n",
    "Для метода наименьших множителей: $ \\quad l(mn) \\le l(m) + l(n) $\n",
    "\n",
    "Для SX-метода (он же бинарный метод слева-направо): $ \\quad l(n) \\le \\lambda (n) + \\nu (n) - 1 $\n",
    "\n",
    "$\\quad$Пара $ (j, k), 0 \\le k \\le j < i $ называется *шагом* $i$\n",
    "**Виды шагов**:\n",
    "* удвоение: $ j = k = i - 1 $\n",
    "* звёздный шаг: $ j = i - 1 $ (линейный шаг)\n",
    "* малый шаг: $ \\lambda (a_i) = \\lambda (a_i - 1) $, где $ \\lambda (n) = \\lfloor lb(n) \\rfloor$\n",
    "**Свойства шагов**:\n",
    "* шаг 1 - всегда удвоение\n",
    "* удвоение - звёздный шаг, но никогда не малый\n",
    "* за удвоением всегда следует звёздный шаг\n",
    "* если $i$-ый шаг не малый, то $(i+1)$-ый шаг либо малый, либо звёздный, либо оба\n",
    "* если $(i+1)$-ый шаг не звёздный и не малый, то $i$-ый шаг должен быть малым\n",
    "\n",
    "**Теорема**:\n",
    "Если аддитивная цепочка содержит $d$ и $f = r - d$ неудвоений, то $n \\le 2^{d-1} F_{f+3}$, где $F_j$ - число Фиббоначи\n",
    "\n",
    "**Следствие**:\n",
    "Если аддитивная цепочка содержит $f$ удвоений и $S$ малых шагов, то\n",
    "${S \\le f \\le} {S \\over {1 - lb(\\varphi)}}$, где $\\varphi = {{\\sqrt{5} + 1} \\over 2} $ - золотое сечение\n",
    "\n",
    "$\\quad$**Звёздной** называется такая аддитивная цепочка, которая включает в себя только звёздные шаги: $a_i = a_{i-1} + a_k$, любое $k < i$"
   ]
  },
  {
   "cell_type": "markdown",
   "metadata": {},
   "source": [
    "## Постановка задачи\n",
    "\n",
    "$\\quad$ Аналитически решить задачу о раскрасках; графически отобразить решение задачи с использованием системы компьютерной математики SageMath. Полученные результаты содержательно проинтерпретировать.\n",
    "\n",
    "$\\quad$**Индивидульное задание, вариант 32**\n",
    "\n",
    "$\\quad$Сколькими способами можно раскрасить грани куба, используя краски 6 цветов (с точностью до поворота куба)."
   ]
  },
  {
   "cell_type": "markdown",
   "metadata": {},
   "source": [
    "## Выполнение работы\n",
    "Можно сделать текст курсивом с помощью *звёздочек* или _нижнего подчёркивания_. А можно сделать текст полужирным с помощью **двойных звёздочек** или __двойного нижнего подчёркивания__. _**Даже можно скомбинировать!**_ \n",
    "\n",
    "Для монотонного шрифта используется `символ машинного апострофа` (который находится на клавише Ё).\n",
    "\n",
    "Jupyter Notebook поддерживает формулы $ \\LaTeX $. Попробуем посчитать в SageMath следующий предел:\n",
    "\\\\[\n",
    "  \\lim\\limits_{x \\to 0}\\frac{\\sin x}x\n",
    "\\\\]"
   ]
  },
  {
   "cell_type": "code",
   "execution_count": 1,
   "metadata": {},
   "outputs": [
    {
     "data": {
      "text/plain": [
       "1"
      ]
     },
     "execution_count": 1,
     "metadata": {},
     "output_type": "execute_result"
    }
   ],
   "source": [
    "limit(sin(x)/x, x = 0)"
   ]
  },
  {
   "cell_type": "markdown",
   "metadata": {},
   "source": [
    "Действительно, \\\\[ \\lim\\limits_{x \\to 0}\\frac{\\sin x}x = 1. \\\\]"
   ]
  },
  {
   "cell_type": "markdown",
   "metadata": {},
   "source": [
    "Графики в SageMath можно построить с помощью функции `plot`:"
   ]
  },
  {
   "cell_type": "code",
   "execution_count": 2,
   "metadata": {},
   "outputs": [
    {
     "data": {
      "image/png": "[encoded data removed]",
      "text/plain": [
       "Graphics object consisting of 1 graphics primitive"
      ]
     },
     "execution_count": 2,
     "metadata": {},
     "output_type": "execute_result"
    }
   ],
   "source": [
    "plot(sin, -2*pi, 2*pi)"
   ]
  },
  {
   "cell_type": "markdown",
   "metadata": {},
   "source": [
    "Также можно вставлять таблицы. [Удобный сайт для создания Markdown-таблиц.](https://www.tablesgenerator.com/markdown_tables \"Markdown Tables generator\")\n",
    "\n",
    "Не забывайте проанализировать полученные результаты."
   ]
  },
  {
   "cell_type": "markdown",
   "metadata": {},
   "source": [
    "## Выводы\n",
    "\n",
    "Общий вывод по проделанной работе."
   ]
  }
 ],
 "metadata": {
  "kernelspec": {
   "display_name": "SageMath 9.0",
   "language": "sage",
   "name": "sagemath"
  },
  "language_info": {
   "codemirror_mode": {
    "name": "ipython",
    "version": 3
   },
   "file_extension": ".py",
   "mimetype": "text/x-python",
   "name": "python",
   "nbconvert_exporter": "python",
   "pygments_lexer": "ipython3",
   "version": "3.8.10"
  }
 },
 "nbformat": 4,
 "nbformat_minor": 4
}
